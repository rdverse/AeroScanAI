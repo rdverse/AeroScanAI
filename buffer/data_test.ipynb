{
 "cells": [
  {
   "cell_type": "code",
   "execution_count": null,
   "metadata": {},
   "outputs": [],
   "source": [
    "import numpy as np\n",
    "import matplotlib.pyplot as plt\n",
    "from PIL import Image\n",
    "import requests\n",
    "from io import BytesIO\n",
    "\n",
    "# Step 1: Download and load a random image (e.g., a dog image)\n",
    "response = requests.get(\"https://via.placeholder.com/512\")  # Replace with the image URL\n",
    "img = Image.open(BytesIO(response.content))\n",
    "\n",
    "# Step 2: Normalize pixel values to the range [0, 1]\n",
    "img_array = np.array(img) / 255.0\n",
    "print(img_array.shape)\n",
    "\n",
    "# Step 3: Generate sine waves for each pixel\n",
    "amplitude = img_array[:, :, 0]\n",
    "phase = img_array[:, :, 1]\n",
    "frequency = img_array[:, :, 2]\n",
    "\n",
    "x = np.arange(512, 512)  # Create an x-axis for the sine wave\n",
    "sine_waves = amplitude * np.sin(2 * np.pi * frequency  + phase, 512)\n",
    "\n",
    "# Step 4: Convert the sine waves to grayscale and visualize\n",
    "sine_wave_gray = np.mean(sine_waves, axis=2)  # Convert to grayscale\n",
    "original_gray = np.mean(img_array, axis=2)  # Convert the original image to grayscale\n",
    "\n",
    "# Visualize both grayscale images\n",
    "plt.figure(figsize=(10, 5))\n",
    "plt.subplot(1, 2, 1)\n",
    "plt.imshow(sine_wave_gray, cmap='gray')\n",
    "plt.title('Grayscale Sine Wave Image')\n",
    "plt.axis('off')\n",
    "\n",
    "plt.subplot(1, 2, 2)\n",
    "plt.imshow(original_gray, cmap='gray')\n",
    "plt.title('Original Grayscale Image')\n",
    "plt.axis('off')\n",
    "\n",
    "plt.show()\n"
   ]
  },
  {
   "cell_type": "code",
   "execution_count": null,
   "metadata": {},
   "outputs": [],
   "source": [
    "plt.plot(np.sin(np.random.uniform(1,100,100) * np.pi ))"
   ]
  },
  {
   "cell_type": "code",
   "execution_count": null,
   "metadata": {},
   "outputs": [],
   "source": [
    "np.random.uniform(10, 100, 10)\n",
    "import matplotlib.pylab as plt\n",
    "x = np.linspace(-np.pi/2, np.pi/2, 512)\n",
    "amplitude= 0.3\n",
    "frequency = 1/0.2\n",
    "t = x#np.linspace(-1, 1, 201)\n",
    "phase = 0.5\n",
    "sine_wave = np.sin(np.pi * frequency *t + phase)\n",
    "#plt.plot(x, np.sin(x))\n",
    "noise = np.random.normal(0, 0.1, 512)\n",
    "plt.plot(sine_wave + noise)\n",
    "plt.xlabel('Angle [rad]')\n",
    "\n",
    "plt.ylabel('sin(x)')\n",
    "plt.axis('tight')\n",
    "plt.show()"
   ]
  },
  {
   "cell_type": "code",
   "execution_count": null,
   "metadata": {},
   "outputs": [],
   "source": [
    "t"
   ]
  },
  {
   "cell_type": "code",
   "execution_count": null,
   "metadata": {},
   "outputs": [],
   "source": []
  }
 ],
 "metadata": {
  "kernelspec": {
   "display_name": "covidPy",
   "language": "python",
   "name": "python3"
  },
  "language_info": {
   "codemirror_mode": {
    "name": "ipython",
    "version": 3
   },
   "file_extension": ".py",
   "mimetype": "text/x-python",
   "name": "python",
   "nbconvert_exporter": "python",
   "pygments_lexer": "ipython3",
   "version": "3.6.12"
  },
  "orig_nbformat": 4
 },
 "nbformat": 4,
 "nbformat_minor": 2
}
