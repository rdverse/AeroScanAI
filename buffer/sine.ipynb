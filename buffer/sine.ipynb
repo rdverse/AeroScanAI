{
 "cells": [
  {
   "cell_type": "code",
   "execution_count": 257,
   "metadata": {},
   "outputs": [
    {
     "name": "stdout",
     "output_type": "stream",
     "text": [
      "10 10\n"
     ]
    },
    {
     "data": {
      "text/plain": [
       "[<matplotlib.lines.Line2D at 0x7f23460ee8d0>]"
      ]
     },
     "execution_count": 257,
     "metadata": {},
     "output_type": "execute_result"
    },
    {
     "data": {
      "image/png": "[encoded data removed]",
      "text/plain": [
       "<Figure size 432x288 with 1 Axes>"
      ]
     },
     "metadata": {},
     "output_type": "display_data"
    }
   ],
   "source": [
    "import random\n",
    "import numpy as np\n",
    "import matplotlib.pyplot as plt\n",
    "\n",
    "def random_sine_wave(length, defect=True):\n",
    "    # Generate a random amplitude\n",
    "    amplitude = random.uniform(0.1, 1.0)\n",
    "\n",
    "    # Generate a random frequency\n",
    "    frequency = random.uniform(1, 20)\n",
    "    frequency = np.pi * 0.5\n",
    "    # Generate a random phase\n",
    "    phase = random.uniform(0, np.pi * 0.1)\n",
    "    # Generate the sine wave\n",
    "    sine_wave = 1 * np.sin(2 * np.pi * frequency * np.arange(length) + phase) +1\n",
    "\n",
    "    # Add noise\n",
    "    if noise_level > 0:\n",
    "        print(noise_level, length)\n",
    "        noise = np.random.random_sample(noise_level)\n",
    "        if defect:\n",
    "            noise = noise + np.random.randint(0, 3, 10)\n",
    "        sine_wave += noise\n",
    "\n",
    "    return sine_wave\n",
    "\n",
    "sine = random_sine_wave(10, defect=True)\n",
    "plt.plot(sine)"
   ]
  },
  {
   "cell_type": "code",
   "execution_count": 359,
   "metadata": {},
   "outputs": [],
   "source": [
    "import random\n",
    "import numpy as np\n",
    "import matplotlib.pyplot as plt\n",
    "from sklearn.preprocessing import MinMaxScaler\n",
    "\n",
    "def synthetic_defects(array_size, defect_coverage=0.5, random_seed=999):\n",
    "    np.random.seed(random_seed)\n",
    "    def random_sine_wave(length, defect=True):\n",
    "        # Generate a random amplitude\n",
    "        amplitude = random.uniform(0.1, 1.0)\n",
    "        # Generate a random frequency\n",
    "        frequency = random.uniform(1, 20)\n",
    "        frequency = np.pi * 0.5\n",
    "        # Generate a random phase\n",
    "        phase = random.uniform(0, np.pi * 0.1)\n",
    "        # Generate the sine wave\n",
    "        sine_wave = 1 * np.sin(2 * np.pi * frequency * np.arange(length) + phase) +1\n",
    "        # Add noise\n",
    "        noise_level = 1\n",
    "        noise = np.random.random_sample(noise_level)\n",
    "        if defect:\n",
    "            noise = noise + np.random.randint(0, 3, 10)\n",
    "        sine_wave += noise\n",
    "        return sine_wave\n",
    "\n",
    "    # Calculate the total area of the array\n",
    "    data = np.zeros((array_size, array_size,10))\n",
    "    mask = np.zeros((array_size, array_size))\n",
    "    pixelmap = np.zeros((array_size, array_size, 2)) # 2 for x and y\n",
    "    defect_area = int(array_size * defect_coverage)\n",
    "    # Generate random noisy points\n",
    "    for i in range(defect_area):\n",
    "        num_points = defect_area\n",
    "        points = []\n",
    "        for j in range(num_points):\n",
    "            x = random.randint(0, array_size)\n",
    "            y = random.randint(0, array_size)\n",
    "            points.append((x, y))\n",
    "        # Connect the points in a sequence\n",
    "        # all these extra loops are to make sure the points are somewhat connected\n",
    "        # Definetely better ways to do this\n",
    "        for j in range(num_points - 1):\n",
    "            x1, y1 = points[j][1]-1, points[j][0]-1\n",
    "            x2, y2 = points[j + 1][1]-1, points[j + 1][0]-1\n",
    "            x1=0 if x1<0 else x1\n",
    "            y1=0 if y1<0 else y1\n",
    "            x2=0 if x2<0 else x2\n",
    "            y2=0 if y2<0 else y2\n",
    "            mask[x1][y1] = 1\n",
    "            mask[x2][y2] = 1\n",
    "    \n",
    "    for i in range(array_size):\n",
    "        for j in range(array_size):\n",
    "            pixelmap[i][j] = \n",
    "            if np.sum(data[i][j]) > 0:\n",
    "                continue\n",
    "            else:\n",
    "                if mask[i][j] == 1:\n",
    "                    data[i][j] = random_sine_wave(10, defect=True)\n",
    "                else:\n",
    "                    data[i][j] = random_sine_wave(10, defect=False)\n",
    "\n",
    "    sine = random_sine_wave(10, defect=True)\n",
    "    plt.plot(sine)\n",
    "    # Plot the array\n",
    "    #print(np.min(data), np.max(data))\n",
    "    scale = MinMaxScaler()\n",
    "    data = np.round(scale.fit_transform(arr.reshape(-1, 10)).reshape(64, 64, 10), 3)\n",
    "    #data = data.astype(np.float16) - 4 times lighter than float64 but going with float32 for now\n",
    "    print(np.min(data), np.max(data), np.median(data))\n",
    "    plt.imshow(np.sum(data, axis=2))\n",
    "    plt.imshow(mask)\n",
    "    plt.colorbar()\n",
    "    plt.show()\n",
    "    return data"
   ]
  },
  {
   "cell_type": "code",
   "execution_count": 360,
   "metadata": {},
   "outputs": [
    {
     "name": "stdout",
     "output_type": "stream",
     "text": [
      "0.0 1.0 0.217\n"
     ]
    },
    {
     "data": {
      "image/png": "[encoded data removed]",
      "text/plain": [
       "<Figure size 432x288 with 2 Axes>"
      ]
     },
     "metadata": {},
     "output_type": "display_data"
    }
   ],
   "source": [
    "arr = synthetic_defects(64, 0.5, random_seed=2)"
   ]
  },
  {
   "cell_type": "code",
   "execution_count": 22,
   "metadata": {},
   "outputs": [],
   "source": [
    "import logging\n",
    "logger = logging.getLogger(__name__)\n",
    "import random\n",
    "import numpy as np\n",
    "import pandas as pd\n",
    "from sklearn.preprocessing import MinMaxScaler\n",
    "import logging\n",
    "logger = logging.getLogger(__name__)\n",
    "SCAN_DICT = {\"low_defect_scan\": {\"defect_coverage\": 0.15, \"random_seed\": 9}, \n",
    "             \"medium_defect_scan\": {\"defect_coverage\": 0.5, \"random_seed\": 9}, \n",
    "             \"high_defect_scan\": {\"defect_coverage\": 0.8, \"random_seed\": 9},\n",
    "             \"random\": {\"defect_coverage\": np.random.randn(), \"random_seed\": int(np.random.uniform(1,1000))}}\n",
    "\n",
    "def synthetic_defects(img_dim, n_channels, scan_type):\n",
    "    defect_coverage = SCAN_DICT[scan_type][\"defect_coverage\"]\n",
    "    random_seed = SCAN_DICT[scan_type][\"random_seed\"]\n",
    "    np.random.seed(random_seed)\n",
    "    def random_sine_wave(length, defect=True):\n",
    "        # Generate a random amplitude\n",
    "        amplitude = random.uniform(0.1, 1.0)\n",
    "        # Generate a random frequency\n",
    "        frequency = np.pi * 0.5\n",
    "        # Generate a random phase\n",
    "        phase = random.uniform(0, np.pi * 0.1)\n",
    "        # Generate the sine wave\n",
    "        sine_wave = 1 * np.sin(2 * np.pi * frequency * np.arange(length) + phase) +1\n",
    "        # Add noise\n",
    "        noise_level = 1\n",
    "        noise = np.random.random_sample(noise_level)\n",
    "        if defect:\n",
    "            noise = noise + np.random.randint(0, 3, 10)\n",
    "        sine_wave += noise\n",
    "        return sine_wave\n",
    "    \n",
    "    def feature_builder(datapoint):\n",
    "        min_val = np.min(datapoint, axis=1)\n",
    "        max_val = np.max(datapoint, axis=1)\n",
    "        mean_val = np.mean(datapoint, axis=1)\n",
    "        std_val = np.std(datapoint, axis=1)\n",
    "        snr_val = mean_val / (std_val+1)\n",
    "        num_peaks = np.sum(datapoint > 0.8, axis=1)\n",
    "        # Stack the calculated features horizontally to get a (6000, 6) array\n",
    "        features = np.column_stack((min_val, max_val, mean_val, std_val, snr_val, num_peaks))\n",
    "        return features\n",
    "    \n",
    "    # Calculate the total area of the array\n",
    "    data = np.zeros((img_dim, img_dim,10))\n",
    "    mask = np.zeros((img_dim, img_dim))\n",
    "    pixelmap = np.zeros((img_dim, img_dim, 2)) # 2 for x and y\n",
    "    defect_area = int(img_dim * defect_coverage)\n",
    "    # Generate random noisy points\n",
    "    for i in range(defect_area):\n",
    "        num_points = defect_area\n",
    "        points = []\n",
    "        for j in range(num_points):\n",
    "            x = random.randint(0, img_dim)\n",
    "            y = random.randint(0, img_dim)\n",
    "            points.append((x, y))\n",
    "        # Connect the points in a sequence\n",
    "        # all these extra loops are to make sure the points are somewhat connected\n",
    "        # Definetely better ways to do this\n",
    "        for j in range(num_points - 1):\n",
    "            x1, y1 = points[j][1]-1, points[j][0]-1\n",
    "            x2, y2 = points[j + 1][1]-1, points[j + 1][0]-1\n",
    "            x1=0 if x1<0 else x1\n",
    "            y1=0 if y1<0 else y1\n",
    "            x2=0 if x2<0 else x2\n",
    "            y2=0 if y2<0 else y2\n",
    "            mask[x1][y1] = 1\n",
    "            mask[x2][y2] = 1\n",
    "    \n",
    "    for i in range(img_dim):\n",
    "        for j in range(img_dim):\n",
    "            pixelmap[i][j] = [i, j]\n",
    "            if np.sum(data[i][j]) > 0:\n",
    "                continue\n",
    "            else:\n",
    "                if mask[i][j] == 1:\n",
    "                    data[i][j] = random_sine_wave(n_channels, defect=True)\n",
    "                else:\n",
    "                    data[i][j] = random_sine_wave(n_channels, defect=False)\n",
    "\n",
    "    sine = random_sine_wave(10, defect=True)\n",
    "    #plt.plot(sine)\n",
    "    # Plot the array\n",
    "    #print(np.min(data), np.max(data))\n",
    "    scale = MinMaxScaler()\n",
    "    data = np.round(scale.fit_transform(data.reshape(-1, 10)))#.reshape(64, 64, 10), 3)\n",
    "    data = feature_builder(data)\n",
    "    mask = mask.reshape(-1,).reshape(-1,1)\n",
    "    pixelmap = pixelmap.reshape(img_dim, img_dim, 2).reshape(-1, 2)\n",
    "    #data = data.astype(np.float16) - 4 times lighter than float64 but going with float32 for now\n",
    "    print(np.min(data), np.max(data), np.median(data))\n",
    "\n",
    "    # last column is defect\n",
    "    columns = ['min', 'max', 'mean', 'std', 'snr', 'num_peaks', \"backwall\", \"frontwall\", \"ramp\",  \"geometry\", \"defect\"]\n",
    "    # add zeros where the new artificial features will be\n",
    "    data = np.column_stack((data, np.zeros((data.shape[0], 4))))\n",
    "    data = np.column_stack((data, mask))\n",
    "    df = pd.DataFrame(data, columns=columns)\n",
    "    logger.info(\"mask shape is %s\", mask.shape)\n",
    "    logger.info(\"data shape is %s\", data.shape)\n",
    "    logger.info(\"mask sum is %s\", np.sum(mask))\n",
    "    print(len(mask))\n",
    "    # distribute defect classes\n",
    "    \n",
    "    df.loc[df['defect'] == 1, \"defect\"] = np.random.choice([1, 2], size=(df['defect'] == 1).sum(), p=[0.5, 0.5])\n",
    "    print(df.shape)\n",
    "    print(df[df['defect'] == 0].shape)\n",
    "    print(df[df['defect'] == 1].shape)\n",
    "    print(df[df['defect'] == 2].shape)\n",
    "    #print(np.random.choice([1, 2], size=(df['defect'] == 1).sum(), p=[0.5, 0.5]))\n",
    "\n",
    "    \n",
    "    # backwall\n",
    "    df.loc[df['defect'] == 1, 'backwall'] = np.random.choice([0, 1], size=(df['defect'] == 1).sum(), p=[0.2, 0.8])\n",
    "    df.loc[df['defect'] == 2, 'backwall'] = np.random.choice([0, 1], size=(df['defect'] == 2).sum(), p=[0.8, 0.2])\n",
    "    # frontwall\n",
    "    df.loc[df['defect'] == 1, 'frontwall'] = np.random.choice([0, 1], size=(df['defect'] == 1).sum(), p=[0.8, 0.2])\n",
    "    df.loc[df['defect'] == 2, 'frontwall'] = np.random.choice([0, 1], size=(df['defect'] == 2).sum(), p=[0.2, 0.8])\n",
    "    # ramp\n",
    "    df.loc[df['defect'] == 1, 'ramp'] = np.random.choice([0, 1], size=(df['defect'] == 1).sum(), p=[0.6, 0.4])\n",
    "    df.loc[df['defect'] == 2, 'ramp'] = np.random.choice([0, 1], size=(df['defect'] == 2).sum(), p=[0.4, 0.6])\n",
    "    # geometry\n",
    "    df.loc[df['defect'] == 1, 'geometry'] = np.random.choice([0, 1], size=(df['defect'] == 1).sum(), p=[0.4, 0.6])\n",
    "    df.loc[df['defect'] == 2, 'geometry'] = np.random.choice([0, 1], size=(df['defect'] == 2).sum(), p=[0.6, 0.4])\n",
    "    \n",
    "    return df.drop(columns = [\"defect\"]), df[\"defect\"], pixelmap, columns "
   ]
  },
  {
   "cell_type": "code",
   "execution_count": 25,
   "metadata": {},
   "outputs": [
    {
     "name": "stdout",
     "output_type": "stream",
     "text": [
      "0.0 10.0 0.0\n",
      "4096\n",
      "(4096, 11)\n",
      "(2336, 11)\n",
      "(855, 11)\n",
      "(905, 11)\n"
     ]
    }
   ],
   "source": [
    "a, b, c, d = synthetic_defects(64, 10, \"high_defect_scan\")"
   ]
  },
  {
   "cell_type": "code",
   "execution_count": 26,
   "metadata": {},
   "outputs": [
    {
     "data": {
      "text/plain": [
       "0       2.0\n",
       "1       2.0\n",
       "2       0.0\n",
       "3       2.0\n",
       "4       2.0\n",
       "       ... \n",
       "4091    1.0\n",
       "4092    1.0\n",
       "4093    0.0\n",
       "4094    1.0\n",
       "4095    2.0\n",
       "Name: defect, Length: 4096, dtype: float64"
      ]
     },
     "execution_count": 26,
     "metadata": {},
     "output_type": "execute_result"
    }
   ],
   "source": [
    "b"
   ]
  },
  {
   "cell_type": "code",
   "execution_count": null,
   "metadata": {},
   "outputs": [],
   "source": []
  }
 ],
 "metadata": {
  "kernelspec": {
   "display_name": "pygpt",
   "language": "python",
   "name": "python3"
  },
  "language_info": {
   "codemirror_mode": {
    "name": "ipython",
    "version": 3
   },
   "file_extension": ".py",
   "mimetype": "text/x-python",
   "name": "python",
   "nbconvert_exporter": "python",
   "pygments_lexer": "ipython3",
   "version": "3.6.12"
  },
  "orig_nbformat": 4
 },
 "nbformat": 4,
 "nbformat_minor": 2
}
